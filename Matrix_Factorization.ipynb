{
  "nbformat": 4,
  "nbformat_minor": 0,
  "metadata": {
    "colab": {
      "name": "Matrix Factorization",
      "provenance": [],
      "collapsed_sections": [],
      "machine_shape": "hm"
    },
    "kernelspec": {
      "name": "python3",
      "display_name": "Python 3"
    },
    "accelerator": "GPU"
  },
  "cells": [
    {
      "cell_type": "code",
      "metadata": {
        "id": "Y4OgjI58bbIY",
        "colab_type": "code",
        "colab": {}
      },
      "source": [
        "# Google Cloud things\n",
        "\n",
        "project_id = 'cs229-project-258114'\n",
        "bucket_name = 'goodreads_reviews'\n",
        "\n",
        "from google.colab import auth\n",
        "auth.authenticate_user()\n",
        "\n",
        "!gcloud config set project {project_id}\n",
        "\n",
        "# Download the file from a given Google Cloud Storage bucket.\n",
        "!gsutil cp gs://{bucket_name}/finalbooks.csv /tmp/finalbooks.csv\n",
        "!gsutil cp gs://{bucket_name}/finalratings.csv /tmp/ratings.csv \n",
        "!gsutil cp gs://{bucket_name}/train.csv /tmp/train.csv \n",
        "!gsutil cp gs://{bucket_name}/test.csv /tmp/test.csv \n",
        "\n",
        "\n",
        "# basics\n",
        "import pandas as pd\n",
        "import numpy as np\n",
        "\n",
        "# visualization\n",
        "import seaborn as sns\n",
        "import matplotlib.pyplot as plt\n",
        "%matplotlib inline\n",
        "\n",
        "# tools\n",
        "import scipy\n",
        "import math\n",
        "import random\n",
        "import sklearn\n",
        "import string\n",
        "from sklearn.model_selection import train_test_split\n",
        "\n",
        "\n",
        "finalbooks = pd.read_csv('../tmp/finalbooks.csv')\n",
        "ratings = pd.read_csv('../tmp/ratings.csv')\n",
        "train = pd.read_csv('../tmp/train.csv')\n",
        "test = pd.read_csv('../tmp/test.csv')\n"
      ],
      "execution_count": 0,
      "outputs": []
    },
    {
      "cell_type": "code",
      "metadata": {
        "id": "CwpXuKMRbxB9",
        "colab_type": "code",
        "colab": {}
      },
      "source": [
        "## NDGC & RMSE\n",
        "\n",
        "def dcg_k(r, k):\n",
        "    \"\"\" Discounted Cumulative Gain (DGC)  \n",
        "    Args:\n",
        "        r: True Ratings in Predicted Rank Order (1st element is top recommendation)\n",
        "        k: Number of results to consider\n",
        "    Returns:\n",
        "        DCG\n",
        "    \"\"\"\n",
        "  \n",
        "    r = np.asfarray(r)[:k]\n",
        "    return np.sum(2**r / np.log2(np.arange(2, r.size + 2)))      \n",
        "\n",
        "\n",
        "\n",
        "def ndcg_k(r, k):\n",
        "    \"\"\"Normalized Discounted Cumulative Gain (NDCG)\n",
        "    Args:\n",
        "        r: True Ratings in Predicted Rank Order (1st element is top recommendation)\n",
        "        k: Number of results to consider\n",
        "    Returns:\n",
        "        NDCG\n",
        "    \"\"\"\n",
        "    dcg_max = dcg_k(sorted(r, reverse=True), k)\n",
        "    if not dcg_max:\n",
        "        return 0.\n",
        "    return dcg_k(r, k) / dcg_max\n",
        "\n",
        "def mean_ndcg(rs):\n",
        "    \"\"\"Mean NDCG for all users\n",
        "    Args:\n",
        "        rs: Iterator / For each user: True Ratings in Predicted Rank Order\n",
        "    Returns:\n",
        "        Mean NDCG\n",
        "    \"\"\"\n",
        "    return np.mean([ndcg_k(r, len(r)) for r in rs])\n",
        "\n",
        "def rmse(y,h):\n",
        "    \"\"\"RMSE\n",
        "    Args:\n",
        "        y: real y\n",
        "        h: predicted y\n",
        "    Returns:\n",
        "        RMSE\n",
        "    \"\"\"\n",
        "    a = y-h\n",
        "\n",
        "    return np.sqrt(sum(a**2)/len(a))"
      ],
      "execution_count": 0,
      "outputs": []
    },
    {
      "cell_type": "code",
      "metadata": {
        "id": "LlXyHh_rc8Lh",
        "colab_type": "code",
        "colab": {}
      },
      "source": [
        "# MATRIX FACTORIZATION\n",
        "def new_R(data, U, B):\n",
        "    nR = np.zeros(data.shape[0])\n",
        "    c = 0\n",
        "    for i in range(data.shape[0]):\n",
        "        #if i % 10000000 == 0:\n",
        "            #print('step ' + str(i))\n",
        "        nR[c] = B[:, data.newbookid[i] - 1] @ U[data.newuser_id[i] - 1, :]\n",
        "\n",
        "        c += 1\n",
        "    return nR\n",
        "\n"
      ],
      "execution_count": 0,
      "outputs": []
    },
    {
      "cell_type": "code",
      "metadata": {
        "id": "r5OdsMKFc8Vi",
        "colab_type": "code",
        "colab": {}
      },
      "source": [
        "## Alternate Least Square\n",
        "\n",
        "def ALS(train, k, lamu = 0.1, lamb = 0.1):\n",
        "    users = np.unique(train.newuser_id)\n",
        "    books = np.unique(train.newbookid)\n",
        "    nu = len(users)\n",
        "    nb = len(books)\n",
        "\n",
        "# Initialize U and B\n",
        "\n",
        "    #U = np.random.rand(max(users), k)/50\n",
        "    #B = np.random.rand(k, max(books))/50\n",
        "    #B[0, books - 1] = finalbooks.average_rating[books - 1]\n",
        "\n",
        "    U = np.ones((max(users), k)) / np.sqrt(k)\n",
        "    B = np.ones((k, max(books))) / np.sqrt(k)\n",
        "    #B[0, books - 1] = finalbooks.average_rating[books - 1]\n",
        "    \n",
        "    iter = 1\n",
        "    RMSE = 3\n",
        "    dRMSE = 1\n",
        "    rms = []\n",
        "    stop = 0.0001\n",
        "    max_iter = 24\n",
        "    \n",
        "    while (dRMSE > stop) and (iter < max_iter):\n",
        "      for i in users:\n",
        "        ind_B = train.newbookid[train.newuser_id == i] - 1\n",
        "        sub_B = B[:, ind_B]\n",
        "        nui = sub_B.shape[1]\n",
        "        Ai = sub_B @ np.transpose(sub_B) + lamu * np.identity(k)  #*nui\n",
        "        Vi = sub_B @ train.rating[train.newuser_id == i]\n",
        "        U[i - 1, :] = np.linalg.pinv(Ai) @ Vi\n",
        "        #if i % 1000 == 0: print('user ' + str(i))\n",
        "      nR = new_R(train, U, B)\n",
        "      new_RMSE = rmse(nR,train.rating)\n",
        "      dRMSEu = (RMSE - new_RMSE)\n",
        "      RMSE = new_RMSE.copy()\n",
        "      #print('dRMSE = ' + str(dRMSE))\n",
        "      rms.append(RMSE)\n",
        "      iter += 1\n",
        "      print(\"step: \", iter)\n",
        "\n",
        "      for i in books:\n",
        "        ind_U = train.newuser_id[train.newbookid == i] - 1\n",
        "        sub_U = U[ind_U, :]\n",
        "        nbi = sub_U.shape[0]\n",
        "        Ai = np.transpose(sub_U) @ sub_U + lamb * np.identity(k)   #*nbi\n",
        "        Vi = np.transpose(sub_U) @ train.rating[train.newbookid == i]\n",
        "        B[:, i - 1] = np.linalg.pinv(Ai) @ Vi\n",
        "        #if i % 1000 == 0: print('book ' + str(i))\n",
        "      nR = new_R(train, U, B)\n",
        "      new_RMSE = rmse(nR,train.rating)\n",
        "      dRMSE = (RMSE - new_RMSE) #np.abs\n",
        "      #dRMSE = min(dRMSEu, dRMSEb) #np.abs\n",
        "      RMSE = new_RMSE.copy()\n",
        "      #print('dRMSE = ' + str(dRMSE))\n",
        "      #print('RMSE = ' + str(RMSE))\n",
        "      print(\"step: \", iter)\n",
        "      rms.append(RMSE)\n",
        "      iter += 1\n",
        "    w = {}\n",
        "    w['rms'] = rms\n",
        "    w['U'] = U\n",
        "    w['B'] = B\n",
        "\n",
        "    return w"
      ],
      "execution_count": 0,
      "outputs": []
    },
    {
      "cell_type": "code",
      "metadata": {
        "id": "bTCjNpivg8ZR",
        "colab_type": "code",
        "colab": {}
      },
      "source": [
        " traint, traincv = train_test_split(train,\n",
        "                               stratify=train['newuser_id'], \n",
        "                               test_size=0.1875,\n",
        "                               random_state=42)\n",
        "traint = traint.reset_index(drop=True)\n",
        "traincv = traincv.reset_index(drop=True)"
      ],
      "execution_count": 0,
      "outputs": []
    },
    {
      "cell_type": "code",
      "metadata": {
        "id": "BMwKfYXtg37s",
        "colab_type": "code",
        "colab": {}
      },
      "source": [
        "ks = []\n",
        "trains = []\n",
        "cvs = []\n",
        "ndgs = []\n",
        "\n",
        "for k in [3]:\n",
        "  for alphau in  [ 0.125]:\n",
        "    for betab in  [0.075, 0.1, 0.2, 1]:\n",
        "      print(\"running for... alphau = \", alphau, \" and betab = \", betab)\n",
        "      w = ALS(traint, k, alphau, betab)\n",
        "      CVpred = new_R(traincv, w['U'], w['B'])\n",
        "      RMSE_CV = np.sqrt(np.mean((CVpred - traincv.rating) ** 2))\n",
        "      ranked = traincv.filter(['rating'])\n",
        "      ranked['pred'] = CVpred\n",
        "      ndgcv = ndcg_k(ranked.sort_values(by=['pred'], ascending = False).rating, len(ranked.sort_values(by=['pred'], ascending = False).rating))\n",
        "      ndgs.append(ndgcv)\n",
        "      ks.append(betab)\n",
        "      trains.append(w['rms'][-1])\n",
        "      cvs.append(RMSE_CV)\n",
        "      print(\"RMSEtrain: \", w['rms'][-1])\n",
        "      print(\"RMSECV: \", RMSE_CV)\n",
        "      print(\"done for: k= \", k, \"alphau= \", alphau, \"betab= \", betab)\n",
        "      print(\"RMSEtrain: \", w['rms'][-1])\n",
        "      print(\"RMSECV: \", RMSE_CV)\n",
        "      print(\"NDG: \", ndgcv)\n",
        "      print (\"w rms: \", w['rms'])\n",
        "\n",
        "\n"
      ],
      "execution_count": 0,
      "outputs": []
    },
    {
      "cell_type": "code",
      "metadata": {
        "id": "va5fFTKtuWB3",
        "colab_type": "code",
        "colab": {}
      },
      "source": [
        "print(ks)\n",
        "print(trains)\n",
        "print(cvs)\n"
      ],
      "execution_count": 0,
      "outputs": []
    },
    {
      "cell_type": "code",
      "metadata": {
        "id": "IgNiqHj_D5Q8",
        "colab_type": "code",
        "colab": {}
      },
      "source": [
        "w = ALS(train,  3, 0.1, 0.1)"
      ],
      "execution_count": 0,
      "outputs": []
    },
    {
      "cell_type": "code",
      "metadata": {
        "id": "M7kqXQPuEHIz",
        "colab_type": "code",
        "colab": {}
      },
      "source": [
        "R = w['U'].dot(w['B'])"
      ],
      "execution_count": 0,
      "outputs": []
    },
    {
      "cell_type": "code",
      "metadata": {
        "id": "j3SIf-LjugbM",
        "colab_type": "code",
        "colab": {}
      },
      "source": [
        "rflat = np.matrix.flatten(R)\n",
        "testy = np.repeat(np.array(train.newuser_id.unique()), 8000)\n",
        "booky = np.tile(np.array(finalbooks.newbookid), 15000)\n",
        "booky\n"
      ],
      "execution_count": 0,
      "outputs": []
    },
    {
      "cell_type": "code",
      "metadata": {
        "id": "b0s-s90znGF4",
        "colab_type": "code",
        "colab": {}
      },
      "source": [
        "testy = np.sort(testy)\n",
        "testy"
      ],
      "execution_count": 0,
      "outputs": []
    },
    {
      "cell_type": "code",
      "metadata": {
        "id": "Ax9WqFKmmvOw",
        "colab_type": "code",
        "colab": {}
      },
      "source": [
        "predictions = pd.DataFrame(np.column_stack((testy, booky, rflat)), columns=('newuser_id','newbookid', 'pred'))"
      ],
      "execution_count": 0,
      "outputs": []
    },
    {
      "cell_type": "code",
      "metadata": {
        "id": "t-VxuJdon5yj",
        "colab_type": "code",
        "colab": {}
      },
      "source": [
        "predictions"
      ],
      "execution_count": 0,
      "outputs": []
    },
    {
      "cell_type": "code",
      "metadata": {
        "id": "GGLUGLy0lrm3",
        "colab_type": "code",
        "colab": {}
      },
      "source": [
        "from google.colab import drive\n",
        "drive.mount('/content/drive')\n",
        "predictions.to_csv( '../tmp/predictions.csv' , index = False )\n",
        "!cp /tmp/predictions.csv drive/My\\ Drive/"
      ],
      "execution_count": 0,
      "outputs": []
    },
    {
      "cell_type": "code",
      "metadata": {
        "id": "iPHeyna4bzZe",
        "colab_type": "code",
        "colab": {}
      },
      "source": [
        "## DEFINING THE TAIL\n",
        "tailcomp = ratings.groupby(by= 'newbookid', as_index=False).agg({'rating':pd.Series.count}).sort_values(by = 'rating', ascending = False)\n",
        "tot = sum(tailcomp['rating'])\n",
        "tailcomp['popshare']= [x/tot for x in tailcomp['rating']]\n",
        "tailcomp['popshare']= tailcomp['popshare'].cumsum()\n",
        "tailcomp['category']= ['Head' if x<0.95 else \"Tail\" for x in tailcomp['popshare']]\n",
        "\n",
        "tail = tailcomp.loc[tailcomp.popshare >= 0.95]\n",
        "tail"
      ],
      "execution_count": 0,
      "outputs": []
    },
    {
      "cell_type": "code",
      "metadata": {
        "id": "_IR8ERlNb7q4",
        "colab_type": "code",
        "colab": {}
      },
      "source": [
        "mfrank = test.merge(predictions,on = ['newbookid', 'newuser_id'])\n",
        "mfrank = mfrank.sort_values(by=['newuser_id', 'pred'], ascending=False)\n",
        "mfrank.head(5)"
      ],
      "execution_count": 0,
      "outputs": []
    },
    {
      "cell_type": "code",
      "metadata": {
        "id": "_v0Z5j0_cM03",
        "colab_type": "code",
        "colab": {}
      },
      "source": [
        "#train['conc']=train['newuser_id'].map(str)+train['newbookid'].map(str)\n",
        "#pred['conc']=pred['newuser_id'].map(str)+pred['newbookid'].map(str)\n",
        "#predfin = pred[~pred.conc.isin(train.conc)]\n",
        "#predfin.describe()"
      ],
      "execution_count": 0,
      "outputs": []
    },
    {
      "cell_type": "code",
      "metadata": {
        "id": "LDGo181lccWs",
        "colab_type": "code",
        "colab": {}
      },
      "source": [
        "mflist = []\n",
        "for i in range(15000):\n",
        "    a = mfrank.loc[mfrank.newuser_id == i+1]['rating'].tolist()\n",
        "    mflist.append(a)\n",
        "    if (i+1)%1000 == 0: print(\"done: \", i+1)"
      ],
      "execution_count": 0,
      "outputs": []
    },
    {
      "cell_type": "code",
      "metadata": {
        "id": "jjPXV6WZckQV",
        "colab_type": "code",
        "colab": {}
      },
      "source": [
        "b = np.array([ndcg_k(r, len(r)) for r in mflist])\n",
        "\n",
        "\n",
        "facet, axes = plt.subplots(1, 1, figsize=(10, 3))\n",
        "n, bins, patches = plt.hist(b, 200, facecolor='blue', alpha=0.5) #, log = True)   \n",
        "plt.title('Distribution of NDGC among Users for the MF model')\n",
        "plt.show()\n",
        "\n",
        "# [ndcg_k(r, len(r)) for r in poplista]"
      ],
      "execution_count": 0,
      "outputs": []
    },
    {
      "cell_type": "code",
      "metadata": {
        "id": "GhWpswzfnJ21",
        "colab_type": "code",
        "colab": {}
      },
      "source": [
        "d = b[b == 1]\n",
        "sum(d)/15000"
      ],
      "execution_count": 0,
      "outputs": []
    },
    {
      "cell_type": "code",
      "metadata": {
        "id": "cXwH4Fv6creF",
        "colab_type": "code",
        "colab": {}
      },
      "source": [
        "top10 = predictions.sort_values('pred',ascending = False).groupby('newuser_id').head(10)\n",
        "top50 = predictions.sort_values('pred',ascending = False).groupby('newuser_id').head(50)\n",
        "\n",
        "print('(1) MF Model RMSE: ', np.round(rmse(mfrank['pred'],mfrank['rating']), decimals=3))\n",
        "print('(2) MF Model NDCG: ', np.round(mean_ndcg(mflist), decimals=3))\n",
        "print(\"(2) Median NDCG: \", np.round(np.median(b), decimals=3))\n",
        "print(\"(2) Share of NDCG =1 among Users: \", np.round(sum(d)/15000, decimals=3))\n",
        "print('(3) MF Model Div10 Score: ',np.round(sum(np.in1d(top10.newbookid, tail.newbookid))/len(top10), decimals=3))\n",
        "print('(3) MF Model Div50 Score: ',np.round(sum(np.in1d(top50.newbookid, tail.newbookid))/len(top50), decimals=3))"
      ],
      "execution_count": 0,
      "outputs": []
    },
    {
      "cell_type": "code",
      "metadata": {
        "id": "Ku8v8N5ynYZk",
        "colab_type": "code",
        "colab": {}
      },
      "source": [
        "mfranktrain = train.merge(predictions,on = ['newbookid', 'newuser_id'])\n",
        "mfranktrain = mfranktrain.sort_values(by=['newuser_id', 'pred'], ascending=False)"
      ],
      "execution_count": 0,
      "outputs": []
    },
    {
      "cell_type": "code",
      "metadata": {
        "id": "IMMmCEbYnbB-",
        "colab_type": "code",
        "colab": {}
      },
      "source": [
        "mflisttrain = []\n",
        "for i in range(15000):\n",
        "    a = mfranktrain.loc[mfranktrain.newuser_id == i+1]['rating'].tolist()\n",
        "    mflisttrain.append(a)\n",
        "    if (i+1)%1000 == 0: print(\"done: \", i+1)"
      ],
      "execution_count": 0,
      "outputs": []
    },
    {
      "cell_type": "code",
      "metadata": {
        "id": "h47iTsfOndkm",
        "colab_type": "code",
        "colab": {}
      },
      "source": [
        "print('(1) MF Train Model RMSE: ', np.round(rmse(mfranktrain['pred'],mfranktrain['rating']), decimals=3))\n",
        "print('(2) MF Train Model NDCG: ', np.round(mean_ndcg(mflisttrain), decimals=3))"
      ],
      "execution_count": 0,
      "outputs": []
    },
    {
      "cell_type": "code",
      "metadata": {
        "id": "M7VRASwhpOA4",
        "colab_type": "code",
        "colab": {}
      },
      "source": [
        "w['rms'][-1]"
      ],
      "execution_count": 0,
      "outputs": []
    }
  ]
}
